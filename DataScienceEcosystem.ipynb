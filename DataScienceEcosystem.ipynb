{
 "cells": [
  {
   "cell_type": "markdown",
   "id": "c7eb570f-02f3-4c22-8a86-33e984b73c7e",
   "metadata": {},
   "source": [
    "# Data Science Tools and Ecosystem"
   ]
  },
  {
   "cell_type": "markdown",
   "id": "987ad7e1-c77f-44c3-ae0e-3c8e21cc1f22",
   "metadata": {},
   "source": [
    "In this notebook, Data Science Tools and Ecosystem are summarized."
   ]
  },
  {
   "cell_type": "markdown",
   "id": "77d439a8-a840-4dfe-9452-878374faab22",
   "metadata": {},
   "source": [
    "**Objectives :**"
   ]
  },
  {
   "cell_type": "markdown",
   "id": "69d6b3f8-50dc-4573-aca4-4f69135d41c0",
   "metadata": {},
   "source": [
    "- Add comments to code\n",
    "- Create markdown cell\n",
    "- Add ordered and unordered list to the cell\n",
    "- Use heading styles in markdown cell"
   ]
  },
  {
   "cell_type": "markdown",
   "id": "76ffcfc0-0db1-40b8-b1f6-71c85e36b613",
   "metadata": {},
   "source": [
    "Some of the popular languages that Data Scientists use are:\n",
    "    "
   ]
  },
  {
   "cell_type": "markdown",
   "id": "caa4c214-4938-435a-8e39-be1a43947f60",
   "metadata": {},
   "source": [
    "1. Python\n",
    "2. R\n",
    "3. SQL\n",
    "4. Scala\n",
    "5. Java\n",
    "6. C++\n",
    "7. PHP\n",
    "8. Julia \n",
    "9. JavaScript\n",
    "10. Ruby"
   ]
  },
  {
   "cell_type": "markdown",
   "id": "ba67ddf4-bf4d-4d14-b033-b971540de0b0",
   "metadata": {},
   "source": [
    "Some of the commonly used libraries used by Data Scientists include:"
   ]
  },
  {
   "cell_type": "markdown",
   "id": "b44bcd8e-cc43-4439-b452-fe70992aff51",
   "metadata": {},
   "source": [
    "1. Pandas\n",
    "2. Numpy\n",
    "3. Matplotlib\n",
    "4. Seaborn\n",
    "5. Scikit-learn\n",
    "6. Keras\n",
    "7. Tensorflow\n",
    "8. PyTorch"
   ]
  },
  {
   "cell_type": "markdown",
   "id": "f88a4ff9-8b9c-4f69-84b7-09d607820426",
   "metadata": {},
   "source": [
    "|Data Science Tools|\n",
    "|:--|\n",
    "|Anaconda|\n",
    "|Jupyter Notebook|\n",
    "|R Studio|\n",
    "|Spyder|"
   ]
  },
  {
   "cell_type": "markdown",
   "id": "1cf44127-f8d5-4618-93d2-d8e8a4ded195",
   "metadata": {},
   "source": [
    "### Below are a few examples of evaluating arithmetic expressions in Python"
   ]
  },
  {
   "cell_type": "code",
   "execution_count": 2,
   "id": "c6725d48-ae0e-486b-90cc-882fc2b0d714",
   "metadata": {
    "tags": []
   },
   "outputs": [
    {
     "data": {
      "text/plain": [
       "17"
      ]
     },
     "execution_count": 2,
     "metadata": {},
     "output_type": "execute_result"
    }
   ],
   "source": [
    "# This a simple arithmetic expression to mutiply then add integers\n",
    "\n",
    "(3*4)+5"
   ]
  },
  {
   "cell_type": "code",
   "execution_count": 3,
   "id": "12e5c1d1-1238-4123-ab60-d03db1f3e006",
   "metadata": {
    "tags": []
   },
   "outputs": [
    {
     "data": {
      "text/plain": [
       "3.3333333333333335"
      ]
     },
     "execution_count": 3,
     "metadata": {},
     "output_type": "execute_result"
    }
   ],
   "source": [
    "# This will convert 200 minutes to hours by diving by 60\n",
    "\n",
    "200/60"
   ]
  },
  {
   "cell_type": "markdown",
   "id": "6315a117-be93-4e04-b2c0-37436e86b28f",
   "metadata": {},
   "source": [
    "## Author\n",
    "NELLORE SAI NIKHIL"
   ]
  },
  {
   "cell_type": "code",
   "execution_count": null,
   "id": "1d955fc0-518a-4d0e-951d-b2adff726061",
   "metadata": {},
   "outputs": [],
   "source": []
  }
 ],
 "metadata": {
  "kernelspec": {
   "display_name": "Python",
   "language": "python",
   "name": "conda-env-python-py"
  },
  "language_info": {
   "codemirror_mode": {
    "name": "ipython",
    "version": 3
   },
   "file_extension": ".py",
   "mimetype": "text/x-python",
   "name": "python",
   "nbconvert_exporter": "python",
   "pygments_lexer": "ipython3",
   "version": "3.7.12"
  }
 },
 "nbformat": 4,
 "nbformat_minor": 5
}
